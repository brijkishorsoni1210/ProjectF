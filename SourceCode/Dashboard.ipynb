{
 "cells": [
  {
   "cell_type": "code",
   "execution_count": null,
   "metadata": {},
   "outputs": [],
   "source": [
    "__author__ = 'Brijkishor soni,Harsh KUmar jarwal, Alankrita agrawal'"
   ]
  },
  {
   "cell_type": "code",
   "execution_count": null,
   "metadata": {},
   "outputs": [],
   "source": [
    "!pip install scipy"
   ]
  },
  {
   "cell_type": "code",
   "execution_count": null,
   "metadata": {},
   "outputs": [],
   "source": [
    "!pip install Pillow"
   ]
  },
  {
   "cell_type": "code",
   "execution_count": null,
   "metadata": {},
   "outputs": [],
   "source": [
    "!pip install opencv-python"
   ]
  },
  {
   "cell_type": "code",
   "execution_count": null,
   "metadata": {},
   "outputs": [],
   "source": [
    "!pip install qimage2ndarray"
   ]
  },
  {
   "cell_type": "code",
   "execution_count": null,
   "metadata": {},
   "outputs": [],
   "source": [
    "!pip install keyboard"
   ]
  },
  {
   "cell_type": "code",
   "execution_count": null,
   "metadata": {},
   "outputs": [],
   "source": [
    "!pip install pyttsx3"
   ]
  },
  {
   "cell_type": "code",
   "execution_count": null,
   "metadata": {},
   "outputs": [],
   "source": [
    "!pip install qtwidgets"
   ]
  },
  {
   "cell_type": "code",
   "execution_count": null,
   "metadata": {},
   "outputs": [],
   "source": [
    "from PyQt5 import QtWidgets, uic\n",
    "from PyQt5.QtWidgets import QMessageBox\n",
    "from PyQt5.QtCore import QUrl\n",
    "from PyQt5.QtGui import QImage\n",
    "from PyQt5.QtGui import QPixmap\n",
    "from PyQt5 import QtCore\t\t\t\t\t\t#importing pyqt5 libraries\n",
    "#from scipy.ndimage import imread\t\t\t\t#will help in reading the images\n",
    "from matplotlib.pyplot import imread\n",
    "from PyQt5.QtCore import QTimer,Qt \n",
    "from PyQt5 import QtGui\t\t\t\t\t\t\t\n",
    "from tkinter import filedialog\t\t\t\t\t#for file export module\n",
    "from tkinter import * \n",
    "import tkinter as tk\n",
    "from matplotlib import pyplot as plt \t\t\t#for gesture viewer\n",
    "from matplotlib.widgets import Button\n",
    "import sys\t\t\t\t\t\t\t\t\t\t#for pyqt\n",
    "import os\t\t\t\t\t\t\t\t\t\t#for removal of files\n",
    "import cv2\t\t\t\t\t\t\t\t\t\t#for the camera operations\n",
    "import numpy as np \t\t\t\t\t\t\t\t#proceesing on images\n",
    "import qimage2ndarray \t\t\t\t\t\t\t#convers images into matrix\n",
    "import win32api\n",
    "import winGuiAuto\t\t\t\n",
    "import win32gui\n",
    "import win32con\t\t\t\t\t\t\t\t\t#for removing title cv2 window and always on top\n",
    "import keyboard\t\t\t\t\t\t\t\t\t#for pressing keys\n",
    "import pyttsx3\t\t\t\t\t\t\t\t\t#for tts assistance\n",
    "import shutil\t\t\t\t\t\t\t\t\t#for removal of directories\n",
    "index = 0\t\t\t\t\t\t\t\t\t\t#index used for gesture viewer\n",
    "engine = pyttsx3.init()\t\t\t\t\t\t\t#engine initialization for audio tts assistance"
   ]
  },
  {
   "cell_type": "code",
   "execution_count": null,
   "metadata": {},
   "outputs": [],
   "source": [
    "def nothing(x):\n",
    "\tpass"
   ]
  },
  {
   "cell_type": "code",
   "execution_count": null,
   "metadata": {},
   "outputs": [],
   "source": [
    "image_x, image_y = 64,64\t\t\t\t\t\t#image resolution"
   ]
  },
  {
   "cell_type": "code",
   "execution_count": null,
   "metadata": {},
   "outputs": [],
   "source": [
    "from keras.models import load_model\n",
    "classifier = load_model('ASLModel.h5')\t\t\t#loading the model"
   ]
  },
  {
   "cell_type": "code",
   "execution_count": null,
   "metadata": {},
   "outputs": [],
   "source": [
    "def fileSearch():\n",
    "\t\"\"\"Searches each file ending with .png in SampleGestures dirrectory so that custom gesture could be passed to predictor() function\"\"\"\n",
    "\tfileEntry=[]\n",
    "\tfor file in os.listdir(\"SampleGestures\"):\n",
    "\t    if file.endswith(\".png\"):\n",
    "\t    \tfileEntry.append(file)\n",
    "\treturn fileEntry\t\t\t\t\t\t\t"
   ]
  },
  {
   "cell_type": "code",
   "execution_count": null,
   "metadata": {},
   "outputs": [],
   "source": [
    "def load_images_from_folder(folder):\n",
    "    \"\"\"Searches each images in a specified directory\"\"\"\n",
    "    images = []\n",
    "    for filename in os.listdir(folder):\n",
    "        img = cv2.imread(os.path.join(folder,filename))\n",
    "        if img is not None:\n",
    "            images.append(img)\n",
    "    return images"
   ]
  },
  {
   "cell_type": "code",
   "execution_count": null,
   "metadata": {},
   "outputs": [],
   "source": [
    "def toggle_imagesfwd(event):\n",
    "\t\"\"\"displays next images act as a gesutre viewer\"\"\"\n",
    "\timg=load_images_from_folder('TempGest/')\n",
    "\tglobal index"
   ]
  },
  {
   "cell_type": "code",
   "execution_count": null,
   "metadata": {},
   "outputs": [],
   "source": [
    "\tindex += 1"
   ]
  },
  {
   "cell_type": "code",
   "execution_count": null,
   "metadata": {},
   "outputs": [],
   "source": [
    "\ttry:\n",
    "\t\tif index < len(img):\n",
    "\t\t\tplt.axes()\n",
    "\t\t\tplt.imshow(img[index])\n",
    "\t\t\tplt.draw()\n",
    "\texcept:\n",
    "\t\tpass"
   ]
  },
  {
   "cell_type": "code",
   "execution_count": null,
   "metadata": {},
   "outputs": [],
   "source": [
    "def toggle_imagesrev(event):\n",
    "\t\"\"\"displays previous images act as a gesutre viewer\"\"\"\n",
    "\timg=load_images_from_folder('TempGest/')\n",
    "\tglobal index"
   ]
  },
  {
   "cell_type": "code",
   "execution_count": null,
   "metadata": {},
   "outputs": [],
   "source": [
    "\tindex -= 1"
   ]
  },
  {
   "cell_type": "code",
   "execution_count": null,
   "metadata": {},
   "outputs": [],
   "source": [
    "\ttry:\n",
    "\t\tif index < len(img) and index>=0:\n",
    "\t\t\tplt.axes()\n",
    "\t\t\tplt.imshow(img[index])\n",
    "\t\t\tplt.draw()\n",
    "\texcept:\n",
    "\t\tpass"
   ]
  },
  {
   "cell_type": "code",
   "execution_count": null,
   "metadata": {},
   "outputs": [],
   "source": [
    "def openimg():\n",
    "\t\"\"\"displays predefined gesture images at right most window\"\"\"\n",
    "\tcv2.namedWindow(\"Image\", cv2.WINDOW_NORMAL )\n",
    "\timage = cv2.imread('template.png')\n",
    "\tcv2.imshow(\"Image\",image)\n",
    "\tcv2.setWindowProperty(\"Image\",cv2.WND_PROP_FULLSCREEN,cv2.WINDOW_FULLSCREEN)\n",
    "\tcv2.resizeWindow(\"Image\",298,430)\n",
    "\tcv2.moveWindow(\"Image\", 1052,214)"
   ]
  },
  {
   "cell_type": "code",
   "execution_count": null,
   "metadata": {},
   "outputs": [],
   "source": [
    "def removeFile():\n",
    "\t\"\"\"Removes the temp.txt and tempgest directory if any stop button is pressed oor application is closed\"\"\"\n",
    "\ttry:\n",
    "\t\tos.remove(\"temp.txt\")\n",
    "\texcept:\n",
    "\t\tpass\n",
    "\ttry:\n",
    "\t\tshutil.rmtree(\"TempGest\")\n",
    "\texcept:\n",
    "\t\tpass"
   ]
  },
  {
   "cell_type": "code",
   "execution_count": null,
   "metadata": {},
   "outputs": [],
   "source": [
    "def clearfunc(cam):\n",
    "\t\"\"\"shut downs the opened camera and calls removeFile() Func\"\"\"\n",
    "\tcam.release()\n",
    "\tcv2.destroyAllWindows()\n",
    "\tremoveFile()"
   ]
  },
  {
   "cell_type": "code",
   "execution_count": null,
   "metadata": {},
   "outputs": [],
   "source": [
    "def clearfunc2(cam):\n",
    "\t\"\"\"shut downs the opened camera\"\"\"\n",
    "\tcam.release()\n",
    "\tcv2.destroyAllWindows()"
   ]
  },
  {
   "cell_type": "code",
   "execution_count": null,
   "metadata": {},
   "outputs": [],
   "source": [
    "def saveBuff(self,cam,finalBuffer):\n",
    "\t\"\"\"Save the file as temp.txt if save button is pressed in sentence formation through gui\"\"\"\n",
    "\tcam.release()\n",
    "\tcv2.destroyAllWindows()\n",
    "\tif(len(finalBuffer)>=1):\n",
    "\t\tf=open(\"temp.txt\",\"w\")\n",
    "\t\tfor i in finalBuffer:\n",
    "\t\t\tf.write(i)\n",
    "\t\tf.close()"
   ]
  },
  {
   "cell_type": "code",
   "execution_count": null,
   "metadata": {},
   "outputs": [],
   "source": [
    "def capture_images(self,cam,saveimg,mask):\n",
    "\t\"\"\"Saves the images for custom gestures if button is pressed in custom gesture generationn through gui\"\"\"\n",
    "\tcam.release()\n",
    "\tcv2.destroyAllWindows()\n",
    "\tif not os.path.exists('./SampleGestures'):\n",
    "\t\tos.mkdir('./SampleGestures')"
   ]
  },
  {
   "cell_type": "code",
   "execution_count": null,
   "metadata": {},
   "outputs": [],
   "source": [
    "\tgesname=saveimg[-1]\n",
    "\tif(len(gesname)>=1):\n",
    "\t\timg_name = \"./SampleGestures/\"+\"{}.png\".format(str(gesname))\n",
    "\t\tsave_img = cv2.resize(mask, (image_x, image_y))\n",
    "\t\tcv2.imwrite(img_name, save_img)"
   ]
  },
  {
   "cell_type": "code",
   "execution_count": null,
   "metadata": {},
   "outputs": [],
   "source": [
    "def controlTimer(self):\n",
    "\t# if timer is stopped\n",
    "\tself.timer.isActive()\n",
    "\t# create video capture\n",
    "\tself.cam = cv2.VideoCapture(0)\n",
    "\t# start timer\n",
    "\tself.timer.start(20)\n",
    "            "
   ]
  },
  {
   "cell_type": "code",
   "execution_count": null,
   "metadata": {},
   "outputs": [],
   "source": [
    "def predictor():\n",
    "\t\"\"\" Depending on model loaded and customgesture saved prediction is made by checking array or through SiFt algo\"\"\"\n",
    "\timport numpy as np\n",
    "\tfrom keras.preprocessing import image\n",
    "\ttest_image = image.load_img('1.png', target_size=(64, 64))\n",
    "\ttest_image = image.img_to_array(test_image)\n",
    "\ttest_image = np.expand_dims(test_image, axis = 0)\n",
    "\tresult = classifier.predict(test_image)\n",
    "\tgesname=''\n",
    "\tfileEntry=fileSearch()\n",
    "\tfor i in range(len(fileEntry)):\n",
    "\t\timage_to_compare = cv2.imread(\"./SampleGestures/\"+fileEntry[i])\n",
    "\t\toriginal = cv2.imread(\"1.png\")\n",
    "\t\tsift = cv2.xfeatures2d.SIFT_create()\n",
    "\t\tkp_1, desc_1 = sift.detectAndCompute(original, None)\n",
    "\t\tkp_2, desc_2 = sift.detectAndCompute(image_to_compare, None)"
   ]
  },
  {
   "cell_type": "code",
   "execution_count": null,
   "metadata": {},
   "outputs": [],
   "source": [
    "\t\tindex_params = dict(algorithm=0, trees=5)\n",
    "\t\tsearch_params = dict()\n",
    "\t\tflann = cv2.FlannBasedMatcher(index_params, search_params)"
   ]
  },
  {
   "cell_type": "code",
   "execution_count": null,
   "metadata": {},
   "outputs": [],
   "source": [
    "\t\tmatches = flann.knnMatch(desc_1, desc_2, k=2)"
   ]
  },
  {
   "cell_type": "code",
   "execution_count": null,
   "metadata": {},
   "outputs": [],
   "source": [
    "\t\tgood_points = []\n",
    "\t\tratio = 0.6\n",
    "\t\tfor m, n in matches:\n",
    "\t\t      if m.distance < ratio*n.distance:\n",
    "\t\t             good_points.append(m)\n",
    "\t\tif(abs(len(good_points)+len(matches))>20):\t\t\t#goodpoints and matcches sum from 1.png and customgestureimages is grater than 20\n",
    "\t\t\tgesname=fileEntry[i]\n",
    "\t\t\tgesname=gesname.replace('.png','')\n",
    "\t\t\tif(gesname=='sp'):\t\t\t\t\t\t\t\t#sp is replaced with <space>\n",
    "\t\t\t\tgesname=' '\n",
    "\t\t\treturn gesname"
   ]
  },
  {
   "cell_type": "code",
   "execution_count": null,
   "metadata": {},
   "outputs": [],
   "source": [
    "\tif result[0][0] == 1:\n",
    "\t\t  return 'A'\n",
    "\telif result[0][1] == 1:\n",
    "\t\t  return 'B'\n",
    "\telif result[0][2] == 1:\n",
    "\t\t  return 'C'\n",
    "\telif result[0][3] == 1:\n",
    "\t\t  return 'D'\n",
    "\telif result[0][4] == 1:\n",
    "\t\t  return 'E'\n",
    "\telif result[0][5] == 1:\n",
    "\t\t  return 'F'\n",
    "\telif result[0][6] == 1:\n",
    "\t\t  return 'G'\n",
    "\telif result[0][7] == 1:\n",
    "\t\t  return 'H'\n",
    "\telif result[0][8] == 1:\n",
    "\t\t  return 'I'\n",
    "\telif result[0][9] == 1:\n",
    "\t\t  return 'J'\n",
    "\telif result[0][10] == 1:\n",
    "\t\t  return 'K'\n",
    "\telif result[0][11] == 1:\n",
    "\t\t  return 'L'\n",
    "\telif result[0][12] == 1:\n",
    "\t\t  return 'M'\n",
    "\telif result[0][13] == 1:\n",
    "\t\t  return 'N'\n",
    "\telif result[0][14] == 1:\n",
    "\t\t  return 'O'\n",
    "\telif result[0][15] == 1:\n",
    "\t\t  return 'P'\n",
    "\telif result[0][16] == 1:\n",
    "\t\t  return 'Q'\n",
    "\telif result[0][17] == 1:\n",
    "\t\t  return 'R'\n",
    "\telif result[0][18] == 1:\n",
    "\t\t  return 'S'\n",
    "\telif result[0][19] == 1:\n",
    "\t\t  return 'T'\n",
    "\telif result[0][20] == 1:\n",
    "\t\t  return 'U'\n",
    "\telif result[0][21] == 1:\n",
    "\t\t  return 'V'\n",
    "\telif result[0][22] == 1:\n",
    "\t\t  return 'W'\n",
    "\telif result[0][23] == 1:\n",
    "\t\t  return 'X'\n",
    "\telif result[0][24] == 1:\n",
    "\t\t  return 'Y'\n",
    "\telif result[0][25] == 1:\n",
    "\t\t  return 'Z'\n",
    "\t\t\t   "
   ]
  },
  {
   "cell_type": "code",
   "execution_count": null,
   "metadata": {},
   "outputs": [],
   "source": [
    "def checkFile():\n",
    "\t\"\"\"retrieve the content of temp.txt for export module \"\"\"\n",
    "\tcheckfile=os.path.isfile('temp.txt')\n",
    "\tif(checkfile==True):\n",
    "\t\tfr=open(\"temp.txt\",\"r\")\n",
    "\t\tcontent=fr.read()\n",
    "\t\tfr.close()\n",
    "\telse:\n",
    "\t\tcontent=\"No Content Available\"\n",
    "\treturn content"
   ]
  },
  {
   "cell_type": "code",
   "execution_count": null,
   "metadata": {},
   "outputs": [],
   "source": [
    "class Dashboard(QtWidgets.QMainWindow):\n",
    "\tdef __init__(self):\n",
    "\t\tsuper(Dashboard, self).__init__()\n",
    "\t\tself.setWindowFlags(QtCore.Qt.WindowMinimizeButtonHint)\n",
    "\t\t#cap = cv2.VideoCapture('gestfinal2.min.mp4')\n",
    "        cap = cv2.VideoCapture(0)\n",
    "\t\t   \n",
    "\t\t# Read until video is completed \n",
    "\t\twhile(cap.isOpened()):\n",
    "\t\t\tret, frame = cap.read()\n",
    "\t\t\tif ret == True:\n",
    "\t\t# Capture frame-by-frame \n",
    "\t\t\t\tret, frame = cap.read() \n",
    "\t\t\t\tcv2.namedWindow(\"mask\", cv2.WINDOW_NORMAL)\n",
    "\t\t\t\tcv2.imshow(\"mask\", frame)\n",
    "\t\t\t\tcv2.setWindowProperty(\"mask\",cv2.WND_PROP_FULLSCREEN,cv2.WINDOW_FULLSCREEN)\n",
    "\t\t\t\tcv2.resizeWindow(\"mask\",720,400)\n",
    "\t\t\t\tcv2.moveWindow(\"mask\", 320,220)\n",
    "\t\t\t\t\n",
    "\t\t\t\tif cv2.waitKey(25) & 0xFF == ord('q'):\n",
    "\t\t\t\t\tbreak\n",
    "                    "
   ]
  },
  {
   "cell_type": "code",
   "execution_count": null,
   "metadata": {},
   "outputs": [],
   "source": [
    "\t\t\t else:\n",
    "\t\t\t\t break\n",
    "\t\t   \n",
    "            # When everything done, release  \n",
    "            cap.release() \n",
    "\n",
    "            # Closes all the frames \n",
    "            cv2.destroyAllWindows()\n",
    "            self.setWindowIcon(QtGui.QIcon('icons/windowLogo.png'))\n",
    "            self.title = 'Sign language Recognition'\n",
    "            uic.loadUi('UI_Files/dash.ui', self)\n",
    "            self.setWindowTitle(self.title)\n",
    "            self.timer = QTimer()\n",
    "            self.create.clicked.connect(self.createGest)\n",
    "            self.exp2.clicked.connect(self.exportFile)\n",
    "            self.scan_sen.clicked.connect(self.scanSent)\n",
    "            if(self.scan_sinlge.clicked.connect(self.scanSingle)==True):\n",
    "                self.timer.timeout.connect(self.scanSingle)\n",
    "            self.create.setCursor(QtGui.QCursor(QtCore.Qt.PointingHandCursor))\n",
    "            self.scan_sen.setCursor(QtGui.QCursor(QtCore.Qt.PointingHandCursor))\n",
    "            self.scan_sinlge.setCursor(QtGui.QCursor(QtCore.Qt.PointingHandCursor))\n",
    "            self.exp2.setCursor(QtGui.QCursor(QtCore.Qt.PointingHandCursor))\n",
    "            self.exit_button.clicked.connect(self.quitApplication)\n",
    "            self._layout = self.layout()\n",
    "            self.label_3 = QtWidgets.QLabel()\n",
    "            movie = QtGui.QMovie(\"icons/dashAnimation.gif\")\n",
    "            self.label_3.setMovie(movie)\n",
    "            self.label_3.setGeometry(0,160,780,441)\n",
    "            movie.start()\n",
    "            self._layout.addWidget(self.label_3)\n",
    "            self.setObjectName('Message_Window')\n",
    "\n",
    "\tdef quitApplication(self):\n",
    "\t\t\"\"\"shutsdown the GUI window along with removal of files\"\"\"\n",
    "\t\tuserReply = QMessageBox.question(self, 'Quit Application', \"Are you sure you want to quit this app?\", QMessageBox.Yes | QMessageBox.No, QMessageBox.No)\n",
    "\t\tif userReply == QMessageBox.Yes:\n",
    "\t\t\tremoveFile()\n",
    "\t\t\tkeyboard.press_and_release('alt+F4')"
   ]
  },
  {
   "cell_type": "code",
   "execution_count": null,
   "metadata": {},
   "outputs": [],
   "source": [
    "\tdef createGest(self):\n",
    "\t\t\"\"\" Custom gesture generation module\"\"\"\n",
    "\t\ttry:\n",
    "\t\t\tclearfunc(self.cam)\n",
    "\t\texcept:\n",
    "\t\t\tpass\n",
    "\t\tgesname=\"\"\n",
    "\t\tuic.loadUi('UI_Files/create_gest.ui', self)\n",
    "\t\tself.setWindowTitle(self.title)\n",
    "\t\tself.create.clicked.connect(self.createGest)\n",
    "\t\tself.exp2.clicked.connect(self.exportFile)\n",
    "\t\tif(self.scan_sen.clicked.connect(self.scanSent)):\n",
    "\t\t\tcontrolTimer(self)\n",
    "\t\tself.scan_sinlge.clicked.connect(self.scanSingle)\n",
    "\t\tself.linkButton.clicked.connect(openimg)\n",
    "\t\tself.create.setCursor(QtGui.QCursor(QtCore.Qt.PointingHandCursor))\n",
    "\t\tself.scan_sen.setCursor(QtGui.QCursor(QtCore.Qt.PointingHandCursor))\n",
    "\t\tself.scan_sinlge.setCursor(QtGui.QCursor(QtCore.Qt.PointingHandCursor))\n",
    "\t\tself.exp2.setCursor(QtGui.QCursor(QtCore.Qt.PointingHandCursor))\n",
    "\t\tself.pushButton_2.clicked.connect(lambda:clearfunc(self.cam))\n",
    "\t\ttry:\n",
    "\t\t\tself.exit_button.clicked.connect(lambda:clearfunc(self.cam))\n",
    "\t\texcept:\n",
    "\t\t\tpass\n",
    "\t\tself.exit_button.clicked.connect(self.quitApplication)\n",
    "\t\tself.plainTextEdit.setPlaceholderText(\"Enter Gesture Name Here\") \n",
    "\t\timg_text = ''\n",
    "\t\tsaveimg=[]\n",
    "\t\twhile True:\n",
    "\t\t\tret, frame = self.cam.read()\n",
    "\t\t\tframe = cv2.flip(frame,1)\n",
    "\t\t\ttry:\n",
    "\t\t\t\tframe=cv2.resize(frame,(321,270))\n",
    "\t\t\t\tframe = cv2.cvtColor(frame, cv2.COLOR_BGR2RGB)\n",
    "\t\t\t\timg2 = cv2.rectangle(frame, (150,50),(300,200), (0,255,0), thickness=2, lineType=8, shift=0)\n",
    "\t\t\texcept:\n",
    "\t\t\t\tkeyboard.press_and_release('esc')"
   ]
  },
  {
   "cell_type": "code",
   "execution_count": null,
   "metadata": {},
   "outputs": [],
   "source": [
    "\t\t\theight2, width2, channel2 = img2.shape\n",
    "\t\t\tstep2 = channel2 * width2\n",
    "        \t# create QImage from image\n",
    "\t\t\tqImg2 = QImage(img2.data, width2, height2, step2, QImage.Format_RGB888)\n",
    "        \t# show image in img_label\n",
    "\t\t\ttry:\n",
    "\t\t\t\tself.label_3.setPixmap(QPixmap.fromImage(qImg2))\n",
    "\t\t\t\tslider2=self.trackbar.value()\n",
    "\t\t\texcept:\n",
    "\t\t\t\tpass"
   ]
  },
  {
   "cell_type": "code",
   "execution_count": null,
   "metadata": {},
   "outputs": [],
   "source": [
    "\t\t\tlower_blue = np.array([0, 0, 0])\n",
    "\t\t\tupper_blue = np.array([179, 255, slider2])\n",
    "\t\t\timcrop = img2[52:198, 152:298]\n",
    "\t\t\thsv = cv2.cvtColor(imcrop, cv2.COLOR_BGR2HSV)\n",
    "\t\t\tmask = cv2.inRange(hsv, lower_blue, upper_blue)\n",
    "\t\t\t\n",
    "\t\t\tcv2.namedWindow(\"mask\", cv2.WINDOW_NORMAL )\n",
    "\t\t\tcv2.imshow(\"mask\", mask)\n",
    "\t\t\tcv2.setWindowProperty(\"mask\",cv2.WND_PROP_FULLSCREEN,cv2.WINDOW_FULLSCREEN)\n",
    "\t\t\tcv2.resizeWindow(\"mask\",170,160)\n",
    "\t\t\tcv2.moveWindow(\"mask\", 766,271)"
   ]
  },
  {
   "cell_type": "code",
   "execution_count": null,
   "metadata": {},
   "outputs": [],
   "source": [
    "\t\t\thwnd = winGuiAuto.findTopWindow(\"mask\")\n",
    "\t\t\twin32gui.SetWindowPos(hwnd, win32con.HWND_TOP, 0,0,0,0,win32con.SWP_NOMOVE | win32con.SWP_NOSIZE | win32con.SWP_NOACTIVATE)"
   ]
  },
  {
   "cell_type": "code",
   "execution_count": null,
   "metadata": {},
   "outputs": [],
   "source": [
    "\t\t\ttry:\n",
    "\t\t\t\tges_name = self.plainTextEdit.toPlainText()\n",
    "\t\t\texcept:\n",
    "\t\t\t\tpass\n",
    "\t\t\tif(len(ges_name)>=1):\n",
    "\t\t\t\tsaveimg.append(ges_name)\n",
    "\t\t\telse:\n",
    "\t\t\t\tsaveimg.append(ges_name)\n",
    "\t\t\t\tges_name=''"
   ]
  },
  {
   "cell_type": "code",
   "execution_count": null,
   "metadata": {},
   "outputs": [],
   "source": [
    "\t\t\ttry:\n",
    "\t\t\t\tself.pushButton.clicked.connect(lambda:capture_images(self,self.cam,saveimg,mask))\n",
    "\t\t\texcept:\n",
    "\t\t\t\tpass\t\t\t\n",
    "\t\t\t\n",
    "\t\t\tgesname=saveimg[-1]"
   ]
  },
  {
   "cell_type": "code",
   "execution_count": null,
   "metadata": {},
   "outputs": [],
   "source": [
    "\t\t\tif keyboard.is_pressed('shift+s'):\n",
    "\t\t\t\tif not os.path.exists('./SampleGestures'):\n",
    "\t\t\t\t\tos.mkdir('./SampleGestures')\n",
    "\t\t\t\tif(len(gesname)>=1):\n",
    "\t\t\t\t\timg_name = \"./SampleGestures/\"+\"{}.png\".format(str(gesname))\n",
    "\t\t\t\t\tsave_img = cv2.resize(mask, (image_x, image_y))\n",
    "\t\t\t\t\tcv2.imwrite(img_name, save_img)\n",
    "\t\t\t\tbreak"
   ]
  },
  {
   "cell_type": "code",
   "execution_count": null,
   "metadata": {},
   "outputs": [],
   "source": [
    "\t\t\tif cv2.waitKey(1) == 27:\n",
    "\t\t\t\tbreak\n",
    "\t\t\n",
    "\t\tself.cam.release()\n",
    "\t\tcv2.destroyAllWindows()"
   ]
  },
  {
   "cell_type": "code",
   "execution_count": null,
   "metadata": {},
   "outputs": [],
   "source": [
    "\t\tif os.path.exists(\"./SampleGestures/\"+str(gesname)+\".png\"):\n",
    "\t\t\tQtWidgets.QMessageBox.about(self, \"Success\", \"Gesture Saved Successfully!\")"
   ]
  },
  {
   "cell_type": "code",
   "execution_count": null,
   "metadata": {},
   "outputs": [],
   "source": [
    "\tdef exportFile(self):\n",
    "\t\t\"\"\"export file module with tts assistance and gesturre viewer\"\"\"\n",
    "\t\ttry:\n",
    "\t\t\tclearfunc2(self.cam)\n",
    "\t\texcept:\n",
    "\t\t\tpass\n",
    "\t\tuic.loadUi('UI_Files/export.ui', self)\n",
    "\t\tself.setWindowTitle(self.title)\n",
    "\t\tself.create.clicked.connect(self.createGest)\n",
    "\t\tself.exp2.clicked.connect(self.exportFile)\n",
    "\t\tself.scan_sen.clicked.connect(self.scanSent)\n",
    "\t\tself.scan_sinlge.clicked.connect(self.scanSingle)\n",
    "\t\tself.create.setCursor(QtGui.QCursor(QtCore.Qt.PointingHandCursor))\n",
    "\t\tself.scan_sen.setCursor(QtGui.QCursor(QtCore.Qt.PointingHandCursor))\n",
    "\t\tself.scan_sinlge.setCursor(QtGui.QCursor(QtCore.Qt.PointingHandCursor))\n",
    "\t\tself.exp2.setCursor(QtGui.QCursor(QtCore.Qt.PointingHandCursor))\n",
    "\t\tself.exit_button.clicked.connect(self.quitApplication)\n",
    "\t\tcontent=checkFile()\n",
    "\t\tself.textBrowser_98.setText(\"\t\t \"+content)\n",
    "\t\tengine.say(str(content).lower())\n",
    "\t\ttry:\n",
    "\t\t\tengine.runAndWait()\n",
    "\t\texcept:\n",
    "\t\t\tpass\n",
    "\t\tif(content==\"File Not Found\"):\n",
    "\t\t\tself.pushButton_2.setEnabled(False)\n",
    "\t\t\tself.pushButton_3.setEnabled(False)\n",
    "\t\telse:\n",
    "\t\t\tself.pushButton_2.clicked.connect(self.on_click)\n",
    "\t\t\ttry:\n",
    "\t\t\t\tself.pushButton_3.clicked.connect(self.gestureViewer)\n",
    "\t\t\texcept:\n",
    "\t\t\t\tpass"
   ]
  },
  {
   "cell_type": "code",
   "execution_count": null,
   "metadata": {},
   "outputs": [],
   "source": [
    "\tdef on_click(self):\n",
    "\t\t\"\"\"Opens tkinter window to save file at desired location \"\"\"\n",
    "\t\tcontent=checkFile()\n",
    "\t\troot=Tk()\n",
    "\t\troot.withdraw()\n",
    "\t\troot.filename =  filedialog.asksaveasfilename(initialdir = \"/\",title = \"Select file\",filetypes = ((\"Text files\",\"*.txt\"),(\"all files\",\"*.*\")))\n",
    "\t\tname=root.filename\n",
    "\t\t#fr.close()\n",
    "\t\tfw=open(name+\".txt\",\"w\")\n",
    "\t\tif(content=='No Content Available'):\n",
    "\t\t\tcontent=\" \"\n",
    "\t\tfw.write(content)\n",
    "\t\ttry:\n",
    "\t\t\tos.remove(\"temp.txt\")\n",
    "\t\t\tshutil.rmtree(\"TempGest\")\n",
    "\t\texcept:\n",
    "\t\t\tQtWidgets.QMessageBox.about(self, \"Information\", \"Nothing to export\")\n",
    "\t\tfw.close()\n",
    "\t\troot.destroy()"
   ]
  },
  {
   "cell_type": "code",
   "execution_count": null,
   "metadata": {},
   "outputs": [],
   "source": [
    "\t\tif not os.path.exists('temp.txt'):\n",
    "\t\t\tif os.path.exists('.txt'):\n",
    "\t\t\t\tos.remove('.txt')\n",
    "\t\t\telse:\n",
    "\t\t\t\tQtWidgets.QMessageBox.about(self, \"Information\", \"File saved successfully!\")\n",
    "\t\t\t\tself.textBrowser_98.setText(\"\t\t \")\n",
    "\t\n",
    "\tdef gestureViewer(self):\n",
    "\t\t\"\"\"gesture viewer through matplotlib \"\"\"\n",
    "\t\ttry:\n",
    "\t\t\timg=load_images_from_folder('TempGest/')\n",
    "\t\t\tplt.imshow(img[index])\n",
    "\t\texcept:\n",
    "\t\t\tplt.text(0.5, 0.5, 'No new Gesture Available', horizontalalignment='center',verticalalignment='center')\n",
    "\t\taxcut = plt.axes([0.9, 0.0, 0.1, 0.075])\n",
    "\t\taxcut1 = plt.axes([0.0, 0.0, 0.1, 0.075])\n",
    "\t\tbcut = Button(axcut, 'Next', color='dodgerblue', hovercolor='lightgreen')\n",
    "\t\tbcut1 = Button(axcut1, 'Previous', color='dodgerblue', hovercolor='lightgreen')"
   ]
  },
  {
   "cell_type": "code",
   "execution_count": null,
   "metadata": {},
   "outputs": [],
   "source": [
    "\t\t#plt.connect('button_press_event', toggle_imagesfwd)\n",
    "\t\tbcut.on_clicked(toggle_imagesfwd)\n",
    "\t\tbcut1.on_clicked(toggle_imagesrev)\n",
    "\t\tplt.show()\n",
    "\t\taxcut._button = bcut \t\t#creating a reference for that element\n",
    "\t\taxcut1._button1 = bcut1\n",
    "\t#buttonaxe._button = bcut"
   ]
  },
  {
   "cell_type": "code",
   "execution_count": null,
   "metadata": {},
   "outputs": [],
   "source": [
    "\tdef scanSent(self):\n",
    "\t\t\"\"\"sentence formation module \"\"\"\n",
    "\t\ttry:\n",
    "\t\t\tclearfunc(self.cam)\n",
    "\t\texcept:\n",
    "\t\t\tpass\n",
    "\t\tuic.loadUi('UI_Files/scan_sent.ui', self)\n",
    "\t\tself.setWindowTitle(self.title)\n",
    "\t\tself.create.clicked.connect(self.createGest)\n",
    "\t\tself.exp2.clicked.connect(self.exportFile)\n",
    "\t\tif(self.scan_sen.clicked.connect(self.scanSent)):\n",
    "\t\t\tcontrolTimer(self)\n",
    "\t\tself.scan_sinlge.clicked.connect(self.scanSingle)\t\n",
    "\t\ttry:\n",
    "\t\t\tself.pushButton_2.clicked.connect(lambda:clearfunc(self.cam))\n",
    "\t\texcept:\n",
    "\t\t\tpass\n",
    "\t\tself.linkButton.clicked.connect(openimg)\n",
    "\t\tself.create.setCursor(QtGui.QCursor(QtCore.Qt.PointingHandCursor))\n",
    "\t\tself.scan_sen.setCursor(QtGui.QCursor(QtCore.Qt.PointingHandCursor))\n",
    "\t\tself.scan_sinlge.setCursor(QtGui.QCursor(QtCore.Qt.PointingHandCursor))\n",
    "\t\tself.exp2.setCursor(QtGui.QCursor(QtCore.Qt.PointingHandCursor))\n",
    "\t\ttry:\n",
    "\t\t\tself.exit_button.clicked.connect(lambda:clearfunc(self.cam))\n",
    "\t\texcept:\n",
    "\t\t\tpass\n",
    "\t\tself.exit_button.clicked.connect(self.quitApplication)\n",
    "\t\timg_text = ''\n",
    "\t\tappend_text=''\n",
    "\t\tnew_text=''\n",
    "\t\tfinalBuffer=[]\n",
    "\t\tcounts=0\n",
    "\t\twhile True:\n",
    "\t\t\tret, frame =self.cam.read()\n",
    "\t\t\tframe = cv2.flip(frame,1)\n",
    "\t\t\ttry:\n",
    "\t\t\t\tframe=cv2.resize(frame,(331,310))\n",
    "\t\t\t\n",
    "\t\t\t\n",
    "\t\t\t\tframe = cv2.cvtColor(frame, cv2.COLOR_BGR2RGB)\n",
    "\t\t\t\timg = cv2.rectangle(frame, (150,50),(300,200), (0,255,0), thickness=2, lineType=8, shift=0)\n",
    "\t\t\texcept:\n",
    "\t\t\t\tkeyboard.press_and_release('esc')\n",
    "\t\t\t\tkeyboard.press_and_release('esc')"
   ]
  },
  {
   "cell_type": "code",
   "execution_count": null,
   "metadata": {},
   "outputs": [],
   "source": [
    "\t\t\theight, width, channel = img.shape\n",
    "\t\t\tstep = channel * width\n",
    "        \t# create QImage from image\n",
    "\t\t\tqImg = QImage(img.data, width, height, step, QImage.Format_RGB888)\n",
    "       \t\t# show image in img_label\n",
    "\t\t\ttry:\n",
    "\t\t\t\tself.label_3.setPixmap(QPixmap.fromImage(qImg))\n",
    "\t\t\t\tslider=self.trackbar.value()\n",
    "\t\t\texcept:\n",
    "\t\t\t\tpass\n",
    "\t\t\t\t\n",
    "\t\t\tlower_blue = np.array([0, 0, 0])\n",
    "\t\t\tupper_blue = np.array([179, 255, slider])\n",
    "\t\t\timcrop = img[52:198, 152:298]\n",
    "\t\t\thsv = cv2.cvtColor(imcrop, cv2.COLOR_BGR2HSV)\n",
    "\t\t\tmask1 = cv2.inRange(hsv, lower_blue, upper_blue)\n",
    "\t\t\t\n",
    "\t\t\t\n",
    "\t\t\tcv2.namedWindow(\"mask\", cv2.WINDOW_NORMAL )\n",
    "\t\t\tcv2.imshow(\"mask\", mask1)\n",
    "\t\t\tcv2.setWindowProperty(\"mask\",cv2.WND_PROP_FULLSCREEN,cv2.WINDOW_FULLSCREEN)\n",
    "\t\t\tcv2.resizeWindow(\"mask\",118,108)\n",
    "\t\t\tcv2.moveWindow(\"mask\", 905,271)"
   ]
  },
  {
   "cell_type": "code",
   "execution_count": null,
   "metadata": {},
   "outputs": [],
   "source": [
    "\t\t\thwnd = winGuiAuto.findTopWindow(\"mask\")\n",
    "\t\t\twin32gui.SetWindowPos(hwnd, win32con.HWND_TOP, 0,0,0,0,win32con.SWP_NOMOVE | win32con.SWP_NOSIZE | win32con.SWP_NOACTIVATE)"
   ]
  },
  {
   "cell_type": "code",
   "execution_count": null,
   "metadata": {},
   "outputs": [],
   "source": [
    "\t\t\ttry:\n",
    "\t\t\t\tself.textBrowser.setText(\"\\n         \"+str(img_text))\n",
    "\t\t\texcept:\n",
    "\t\t\t\tpass\n",
    "\t\t\timg_name = \"1.png\"\n",
    "\t\t\tsave_img = cv2.resize(mask1, (image_x, image_y))\n",
    "\t\t\tcv2.imwrite(img_name, save_img)\n",
    "\t\t\timg_text=predictor()\n",
    "\t\t\tif cv2.waitKey(1) == ord('c'):\n",
    "\t\t\t\t\ttry:\n",
    "\t\t\t\t\t\tcounts+=1\n",
    "\t\t\t\t\t\tappend_text+=img_text\n",
    "\t\t\t\t\t\tnew_text+=img_text\n",
    "\t\t\t\t\t\tif not os.path.exists('./TempGest'):\n",
    "\t\t\t\t\t\t\tos.mkdir('./TempGest')\n",
    "\t\t\t\t\t\timg_names = \"./TempGest/\"+\"{}{}.png\".format(str(counts),str(img_text))\n",
    "\t\t\t\t\t\tsave_imgs = cv2.resize(mask1, (image_x, image_y))\n",
    "\t\t\t\t\t\tcv2.imwrite(img_names, save_imgs)\n",
    "\t\t\t\t\t\tself.textBrowser_4.setText(new_text)\n",
    "\t\t\t\t\texcept:\n",
    "\t\t\t\t\t\tappend_text+=''\n",
    "\t\t\t\t\t\n",
    "\t\t\t\t\tif(len(append_text)>1):\n",
    "\t\t\t\t\t\tfinalBuffer.append(append_text)\n",
    "\t\t\t\t\t\tappend_text=''\n",
    "\t\t\t\t\telse:\n",
    "\t\t\t\t\t\tfinalBuffer.append(append_text)\n",
    "\t\t\t\t\t\tappend_text=''\n",
    "\t\t\t\t\t \n",
    "\t\t\ttry:\n",
    "\t\t\t\tself.pushButton.clicked.connect(lambda:saveBuff(self,self.cam,finalBuffer))\n",
    "\t\t\texcept:\n",
    "\t\t\t\tpass\n",
    "\t\t\tif cv2.waitKey(1) == 27:\n",
    "\t\t\t\tbreak"
   ]
  },
  {
   "cell_type": "code",
   "execution_count": null,
   "metadata": {},
   "outputs": [],
   "source": [
    "\t\t\tif keyboard.is_pressed('shift+s'):\n",
    "\t\t\t\tif(len(finalBuffer)>=1):\n",
    "\t\t\t\t\tf=open(\"temp.txt\",\"w\")\n",
    "\t\t\t\t\tfor i in finalBuffer:\n",
    "\t\t\t\t\t\tf.write(i)\n",
    "\t\t\t\t\tf.close()\n",
    "\t\t\t\tbreak"
   ]
  },
  {
   "cell_type": "code",
   "execution_count": null,
   "metadata": {},
   "outputs": [],
   "source": [
    "\t\t\t\n",
    "\t\tself.cam.release()\n",
    "\t\tcv2.destroyAllWindows()"
   ]
  },
  {
   "cell_type": "code",
   "execution_count": null,
   "metadata": {},
   "outputs": [],
   "source": [
    "\t\tif os.path.exists('temp.txt'):\n",
    "\t\t\tQtWidgets.QMessageBox.about(self, \"Information\", \"File is temporarily saved ... you can now proceed to export\")\n",
    "\t\ttry:\n",
    "\t\t\tself.textBrowser.setText(\"\t\t \")\n",
    "\t\texcept:\n",
    "\t\t\tpass"
   ]
  },
  {
   "cell_type": "code",
   "execution_count": null,
   "metadata": {},
   "outputs": [],
   "source": [
    "\tdef scanSingle(self):\n",
    "\t\t\"\"\"Single gesture scanner \"\"\"\n",
    "\t\ttry:\n",
    "\t\t\tclearfunc(self.cam)\n",
    "\t\texcept:\n",
    "\t\t\tpass\n",
    "\t\tuic.loadUi('UI_Files/scan_single.ui', self)\n",
    "\t\tself.setWindowTitle(self.title)\n",
    "\t\tself.create.clicked.connect(self.createGest)\n",
    "\t\tself.exp2.clicked.connect(self.exportFile)\n",
    "\t\tself.scan_sen.clicked.connect(self.scanSent)\n",
    "\t\tif(self.scan_sinlge.clicked.connect(self.scanSingle)):\n",
    "\t\t\tcontrolTimer(self)\n",
    "\t\tself.pushButton_2.clicked.connect(lambda:clearfunc(self.cam))\n",
    "\t\tself.linkButton.clicked.connect(openimg)\n",
    "\t\tself.create.setCursor(QtGui.QCursor(QtCore.Qt.PointingHandCursor))\n",
    "\t\tself.scan_sen.setCursor(QtGui.QCursor(QtCore.Qt.PointingHandCursor))\n",
    "\t\tself.scan_sinlge.setCursor(QtGui.QCursor(QtCore.Qt.PointingHandCursor))\n",
    "\t\tself.exp2.setCursor(QtGui.QCursor(QtCore.Qt.PointingHandCursor))\n",
    "\t\ttry:\n",
    "\t\t\tself.exit_button.clicked.connect(lambda:clearfunc(self.cam))\n",
    "\t\texcept:\n",
    "\t\t\tpass\n",
    "\t\tself.exit_button.clicked.connect(self.quitApplication)\n",
    "\t\timg_text = ''\n",
    "\t\twhile True:\n",
    "\t\t\tret, frame = self.cam.read()\n",
    "\t\t\tframe = cv2.flip(frame,1)\n",
    "\t\t\ttry:\n",
    "\t\t\t\tframe=cv2.resize(frame,(321,270))\n",
    "\t\t\t\tframe = cv2.cvtColor(frame, cv2.COLOR_BGR2RGB)\n",
    "\t\t\t\timg1 = cv2.rectangle(frame, (150,50),(300,200), (0,255,0), thickness=2, lineType=8, shift=0)\n",
    "\t\t\texcept:\n",
    "\t\t\t\tkeyboard.press_and_release('esc')"
   ]
  },
  {
   "cell_type": "code",
   "execution_count": null,
   "metadata": {},
   "outputs": [],
   "source": [
    "\t\t\theight1, width1, channel1 = img1.shape\n",
    "\t\t\tstep1 = channel1 * width1\n",
    "        \t# create QImage from image\n",
    "\t\t\tqImg1 = QImage(img1.data, width1, height1, step1, QImage.Format_RGB888)\n",
    "        \t# show image in img_label\n",
    "\t\t\ttry:\n",
    "\t\t\t\tself.label_3.setPixmap(QPixmap.fromImage(qImg1))\n",
    "\t\t\t\tslider1=self.trackbar.value()\n",
    "\t\t\texcept:\n",
    "\t\t\t\tpass"
   ]
  },
  {
   "cell_type": "code",
   "execution_count": null,
   "metadata": {},
   "outputs": [],
   "source": [
    "\t\t\tlower_blue = np.array([0, 0, 0])\n",
    "\t\t\tupper_blue = np.array([179, 255, slider1])\n",
    "\t\t\t\n",
    "\t\t\timcrop = img1[52:198, 152:298]\n",
    "\t\t\thsv = cv2.cvtColor(imcrop, cv2.COLOR_BGR2HSV)\n",
    "\t\t\tmask = cv2.inRange(hsv, lower_blue, upper_blue)\n",
    "\t\t\t\n",
    "\t\t\tcv2.namedWindow(\"mask\", cv2.WINDOW_NORMAL )\n",
    "\t\t\tcv2.imshow(\"mask\", mask)\n",
    "\t\t\tcv2.setWindowProperty(\"mask\",cv2.WND_PROP_FULLSCREEN,cv2.WINDOW_FULLSCREEN)\n",
    "\t\t\tcv2.resizeWindow(\"mask\",118,108)\n",
    "\t\t\tcv2.moveWindow(\"mask\", 894,271)"
   ]
  },
  {
   "cell_type": "code",
   "execution_count": null,
   "metadata": {},
   "outputs": [],
   "source": [
    "\t\t\thwnd = winGuiAuto.findTopWindow(\"mask\")\n",
    "\t\t\twin32gui.SetWindowPos(hwnd, win32con.HWND_TOP, 0,0,0,0,win32con.SWP_NOMOVE | win32con.SWP_NOSIZE | win32con.SWP_NOACTIVATE)\n",
    "\t\t\t\n",
    "\t\t\ttry:\n",
    "\t\t\t\tself.textBrowser.setText(\"\\n\\n\\t\"+str(img_text))\n",
    "\t\t\texcept:\n",
    "\t\t\t\tpass"
   ]
  },
  {
   "cell_type": "code",
   "execution_count": null,
   "metadata": {},
   "outputs": [],
   "source": [
    "\t\t\timg_name = \"1.png\"\n",
    "\t\t\tsave_img = cv2.resize(mask, (image_x, image_y))\n",
    "\t\t\tcv2.imwrite(img_name, save_img)\n",
    "\t\t\timg_text = predictor()\n",
    "\t\t\t\t\n",
    "\t\t\tif cv2.waitKey(1) == 27:\n",
    "\t\t\t    break"
   ]
  },
  {
   "cell_type": "code",
   "execution_count": null,
   "metadata": {},
   "outputs": [],
   "source": [
    "\t\tself.cam.release()\n",
    "\t\tcv2.destroyAllWindows()"
   ]
  },
  {
   "cell_type": "code",
   "execution_count": null,
   "metadata": {},
   "outputs": [],
   "source": [
    "app = QtWidgets.QApplication([])\n",
    "win = Dashboard()\n",
    "win.show()\n",
    "sys.exit(app.exec())"
   ]
  },
  {
   "cell_type": "code",
   "execution_count": null,
   "metadata": {},
   "outputs": [],
   "source": []
  }
 ],
 "metadata": {
  "kernelspec": {
   "display_name": "Python 3 (ipykernel)",
   "language": "python",
   "name": "python3"
  },
  "language_info": {
   "codemirror_mode": {
    "name": "ipython",
    "version": 3
   },
   "file_extension": ".py",
   "mimetype": "text/x-python",
   "name": "python",
   "nbconvert_exporter": "python",
   "pygments_lexer": "ipython3",
   "version": "3.9.13"
  }
 },
 "nbformat": 4,
 "nbformat_minor": 2
}
