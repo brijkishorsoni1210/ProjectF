{
 "cells": [
  {
   "cell_type": "code",
   "execution_count": null,
   "metadata": {},
   "outputs": [],
   "source": []
  },
  {
   "cell_type": "code",
   "execution_count": 1,
   "metadata": {},
   "outputs": [],
   "source": [
    "import cv2\n",
    "import time\n",
    "import numpy as np\n",
    "import os"
   ]
  },
  {
   "cell_type": "code",
   "execution_count": 2,
   "metadata": {},
   "outputs": [],
   "source": [
    "def nothing(x):\n",
    "    pass"
   ]
  },
  {
   "cell_type": "code",
   "execution_count": 3,
   "metadata": {},
   "outputs": [],
   "source": [
    "image_x, image_y = 64, 64"
   ]
  },
  {
   "cell_type": "code",
   "execution_count": null,
   "metadata": {},
   "outputs": [],
   "source": [
    "def create_folder(folder_name):\n",
    "    if not os.path.exists('./Dataset/training_set/' + folder_name):\n",
    "        os.mkdir('./Dataset/training_set/' + folder_name)\n",
    "    if not os.path.exists('./Dataset/test_set/' + folder_name):\n",
    "        os.mkdir('./Dataset/test_set/' + folder_name)\n",
    "    \n",
    "        \n",
    "        \n",
    "def capture_images(ges_name):\n",
    "    create_folder(str(ges_name))\n",
    "    \n",
    "    cam = cv2.VideoCapture(0)\n",
    "    cv2.namedWindow(\"test\")\n",
    "    img_counter = 0\n",
    "    t_counter = 1\n",
    "    training_set_image_name = 1\n",
    "    test_set_image_name = 1\n",
    "    listImage = [1,2,3,4,5]\n",
    "    cv2.namedWindow(\"Trackbars\")\n",
    "    cv2.createTrackbar(\"L - H\", \"Trackbars\", 0, 179, nothing)\n",
    "    cv2.createTrackbar(\"L - S\", \"Trackbars\", 0, 255, nothing)\n",
    "    cv2.createTrackbar(\"L - V\", \"Trackbars\", 0, 255, nothing)\n",
    "    cv2.createTrackbar(\"U - H\", \"Trackbars\", 179, 179, nothing)\n",
    "    cv2.createTrackbar(\"U - S\", \"Trackbars\", 255, 255, nothing)\n",
    "    cv2.createTrackbar(\"U - V\", \"Trackbars\", 255, 255, nothing)\n",
    "    for loop in listImage:\n",
    "        while True:\n",
    "            ret, frame = cam.read()\n",
    "            frame = cv2.flip(frame, 1)\n",
    "            l_h = cv2.getTrackbarPos(\"L - H\", \"Trackbars\")\n",
    "            l_s = cv2.getTrackbarPos(\"L - S\", \"Trackbars\")\n",
    "            l_v = cv2.getTrackbarPos(\"L - V\", \"Trackbars\")\n",
    "            u_h = cv2.getTrackbarPos(\"U - H\", \"Trackbars\")\n",
    "            u_s = cv2.getTrackbarPos(\"U - S\", \"Trackbars\")\n",
    "            u_v = cv2.getTrackbarPos(\"U - V\", \"Trackbars\")\n",
    "            img = cv2.rectangle(frame, (425, 100), (625, 300), (0, 255, 0), thickness=2, lineType=8, shift=0)\n",
    "            lower_blue = np.array([l_h, l_s, l_v])\n",
    "            upper_blue = np.array([u_h, u_s, u_v])\n",
    "            imcrop = img[102:298, 427:623]\n",
    "            hsv = cv2.cvtColor(imcrop, cv2.COLOR_BGR2HSV)\n",
    "            mask = cv2.inRange(hsv, lower_blue, upper_blue)\n",
    "            result = cv2.bitwise_and(imcrop, imcrop, mask=mask)\n",
    "            cv2.putText(frame, str(img_counter), (30, 400), cv2.FONT_HERSHEY_TRIPLEX, 1.5, (127, 127, 255))\n",
    "            cv2.imshow(\"test\", frame)\n",
    "            cv2.imshow(\"mask\", mask)\n",
    "            cv2.imshow(\"result\", result)\n",
    "            if cv2.waitKey(1) == ord('c'):\n",
    "                if t_counter <= 350:\n",
    "                    img_name = \"./Dataset/training_set/\" + str(ges_name) + \"/{}.png\".format(training_set_image_name)\n",
    "                    save_img = cv2.resize(mask, (image_x, image_y))\n",
    "                    cv2.imwrite(img_name, save_img)\n",
    "                    print(\"{} written!\".format(img_name))\n",
    "                    training_set_image_name += 1"
   ]
  },
  {
   "cell_type": "code",
   "execution_count": null,
   "metadata": {},
   "outputs": [],
   "source": [
    "                if t_counter > 350 and t_counter <= 400:\n",
    "                    img_name = \"./Dataset/test_set/\" + str(ges_name) + \"/{}.png\".format(test_set_image_name)\n",
    "                    save_img = cv2.resize(mask, (image_x, image_y))\n",
    "                    cv2.imwrite(img_name, save_img)\n",
    "                    print(\"{} written!\".format(img_name))\n",
    "                    test_set_image_name += 1\n",
    "                    if test_set_image_name > 250:\n",
    "                        break"
   ]
  },
  {
   "cell_type": "code",
   "execution_count": null,
   "metadata": {},
   "outputs": [],
   "source": [
    "                t_counter += 1\n",
    "                if t_counter == 401:\n",
    "                    t_counter = 1\n",
    "                img_counter += 1"
   ]
  },
  {
   "cell_type": "code",
   "execution_count": null,
   "metadata": {},
   "outputs": [],
   "source": [
    "            elif cv2.waitKey(1) == 27:\n",
    "                break\n",
    "        if test_set_image_name > 250:\n",
    "            break"
   ]
  },
  {
   "cell_type": "code",
   "execution_count": null,
   "metadata": {},
   "outputs": [],
   "source": [
    "    cam.release()\n",
    "    cv2.destroyAllWindows()\n",
    "    \n",
    "ges_name = input(\"Enter gesture name: \")\n",
    "capture_images(ges_name)"
   ]
  }
 ],
 "metadata": {
  "kernelspec": {
   "display_name": "Python 3 (ipykernel)",
   "language": "python",
   "name": "python3"
  },
  "language_info": {
   "codemirror_mode": {
    "name": "ipython",
    "version": 3
   },
   "file_extension": ".py",
   "mimetype": "text/x-python",
   "name": "python",
   "nbconvert_exporter": "python",
   "pygments_lexer": "ipython3",
   "version": "3.9.13"
  }
 },
 "nbformat": 4,
 "nbformat_minor": 2
}
