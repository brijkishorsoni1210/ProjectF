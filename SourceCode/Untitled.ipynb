{
 "cells": [
  {
   "cell_type": "code",
   "execution_count": 4,
   "id": "53e3e343",
   "metadata": {},
   "outputs": [
    {
     "name": "stdout",
     "output_type": "stream",
     "text": [
      "Collecting PyQt6\n",
      "  Downloading PyQt6-6.4.2-cp37-abi3-win_amd64.whl (6.4 MB)\n",
      "     ---------------------------------------- 6.4/6.4 MB 3.2 MB/s eta 0:00:00\n",
      "Collecting PyQt6-sip<14,>=13.4\n",
      "  Downloading PyQt6_sip-13.4.1-cp39-cp39-win_amd64.whl (72 kB)\n",
      "     ---------------------------------------- 72.9/72.9 kB 4.2 MB/s eta 0:00:00\n",
      "Collecting PyQt6-Qt6>=6.4.0\n",
      "  Downloading PyQt6_Qt6-6.4.2-py3-none-win_amd64.whl (50.6 MB)\n",
      "     ---------------------------------------- 50.6/50.6 MB 2.6 MB/s eta 0:00:00\n",
      "Installing collected packages: PyQt6-Qt6, PyQt6-sip, PyQt6\n",
      "Successfully installed PyQt6-6.4.2 PyQt6-Qt6-6.4.2 PyQt6-sip-13.4.1\n"
     ]
    }
   ],
   "source": [
    "!pip install PyQt6"
   ]
  },
  {
   "cell_type": "code",
   "execution_count": 1,
   "id": "2e7606eb",
   "metadata": {},
   "outputs": [
    {
     "data": {
      "text/plain": [
       "0"
      ]
     },
     "execution_count": 1,
     "metadata": {},
     "output_type": "execute_result"
    }
   ],
   "source": [
    "import sys\n",
    "from PyQt6 import QtWidgets, uic\n",
    " \n",
    "app = QtWidgets.QApplication(sys.argv)\n",
    " \n",
    "window = uic.loadUi(r\"E:\\FINAL YEAR FULL PROJECT\\Source Code\\UI_Files\\scan_sent.ui\")\n",
    "window.show()\n",
    "app.exec()"
   ]
  },
  {
   "cell_type": "code",
   "execution_count": null,
   "id": "36e4b7c7",
   "metadata": {},
   "outputs": [],
   "source": []
  }
 ],
 "metadata": {
  "kernelspec": {
   "display_name": "Python 3 (ipykernel)",
   "language": "python",
   "name": "python3"
  },
  "language_info": {
   "codemirror_mode": {
    "name": "ipython",
    "version": 3
   },
   "file_extension": ".py",
   "mimetype": "text/x-python",
   "name": "python",
   "nbconvert_exporter": "python",
   "pygments_lexer": "ipython3",
   "version": "3.9.13"
  }
 },
 "nbformat": 4,
 "nbformat_minor": 5
}
